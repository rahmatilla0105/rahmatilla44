{
  "cells": [
    {
      "cell_type": "markdown",
      "metadata": {
        "id": "MH-3kVwvJYeP"
      },
      "source": [
        "# 2.3 Типы коллекций. Последовательности, множества, отображения"
      ]
    },
    {
      "cell_type": "markdown",
      "metadata": {
        "id": "gMwyKhlQJ1mf"
      },
      "source": [
        "## Задание 1"
      ]
    },
    {
      "cell_type": "markdown",
      "metadata": {
        "id": "Owu684lKKrjJ"
      },
      "source": [
        "**Условие:**\n",
        "Создайте кортеж из ```10```  произвольных значений. Выведите элементы кортежа по целым положительным индексам и по целым отрицательным индексам.\n"
      ]
    },
    {
      "cell_type": "markdown",
      "metadata": {
        "id": "OCTvo3fHLaaJ"
      },
      "source": [
        "**Решение:**"
      ]
    },
    {
      "cell_type": "code",
      "execution_count": null,
      "metadata": {
        "colab": {
          "base_uri": "https://localhost:8080/"
        },
        "id": "f9_8IGndLeRO",
        "outputId": "d5d32047-8d45-4f56-b462-389019fea250"
      },
      "outputs": [
        {
          "output_type": "stream",
          "name": "stdout",
          "text": [
            "Элементы кортежа по положительным индексам:\n",
            "Индекс 0: 10\n",
            "Индекс 1: 20\n",
            "Индекс 2: 30\n",
            "Индекс 3: 40\n",
            "Индекс 4: 50\n",
            "Индекс 5: 60\n",
            "Индекс 6: 70\n",
            "Индекс 7: 80\n",
            "Индекс 8: 90\n",
            "Индекс 9: 100\n",
            "\n",
            "Элементы кортежа по отрицательным индексам:\n",
            "Индекс -1: 100\n",
            "Индекс -2: 90\n",
            "Индекс -3: 80\n",
            "Индекс -4: 70\n",
            "Индекс -5: 60\n",
            "Индекс -6: 50\n",
            "Индекс -7: 40\n",
            "Индекс -8: 30\n",
            "Индекс -9: 20\n",
            "Индекс -10: 10\n"
          ]
        }
      ],
      "source": [
        "# Создание кортежа из 10 произвольных значений\n",
        "my_tuple = (10, 20, 30, 40, 50, 60, 70, 80, 90, 100)\n",
        "\n",
        "# Вывод элементов по целым положительным индексам\n",
        "print(\"Элементы кортежа по положительным индексам:\")\n",
        "for i in range(len(my_tuple)):\n",
        "    print(f\"Индекс {i}: {my_tuple[i]}\")\n",
        "\n",
        "# Вывод элементов по целым отрицательным индексам\n",
        "print(\"\\nЭлементы кортежа по отрицательным индексам:\")\n",
        "for i in range(-1, -len(my_tuple) - 1, -1):\n",
        "    print(f\"Индекс {i}: {my_tuple[i]}\")"
      ]
    },
    {
      "cell_type": "markdown",
      "metadata": {
        "id": "g5S0h2-wKfGE"
      },
      "source": [
        "## Задание 2"
      ]
    },
    {
      "cell_type": "markdown",
      "metadata": {
        "id": "orX7BUzcPKKf"
      },
      "source": [
        "**Условие:**\n",
        "Создайте список из ```10``` последовательных чисел. Прибавьте ```1``` к значениям списка, проходя по нему в цикле."
      ]
    },
    {
      "cell_type": "markdown",
      "metadata": {
        "id": "ESSLfwqEPKKn"
      },
      "source": [
        "**Решение:**"
      ]
    },
    {
      "cell_type": "code",
      "execution_count": null,
      "metadata": {
        "colab": {
          "base_uri": "https://localhost:8080/"
        },
        "id": "y8HOlaNLPKKq",
        "outputId": "cd70739f-7dc4-43e1-94b3-89112219e1d8"
      },
      "outputs": [
        {
          "output_type": "stream",
          "name": "stdout",
          "text": [
            "[2, 3, 4, 5, 6, 7, 8, 9, 10, 11]\n"
          ]
        }
      ],
      "source": [
        "# Создание списка из 10 последовательных чисел\n",
        "my_list = list(range(1, 11))\n",
        "\n",
        "# Прибавление 1 к каждому значению списка в цикле\n",
        "for i in range(len(my_list)):\n",
        "    my_list[i] += 1\n",
        "\n",
        "# Вывод измененного списка\n",
        "print(my_list)"
      ]
    },
    {
      "cell_type": "markdown",
      "metadata": {
        "id": "tq0Fcrg1KfXQ"
      },
      "source": [
        "## Задание 3"
      ]
    },
    {
      "cell_type": "markdown",
      "metadata": {
        "id": "3xp-jyyHPMIb"
      },
      "source": [
        "**Условие:**\n",
        "Создайте словарь из ```5``` сотрудников, где ключ - это имя сотрудника, а значение - его заработная плата.\n"
      ]
    },
    {
      "cell_type": "markdown",
      "metadata": {
        "id": "H5ZlBsI2PMIi"
      },
      "source": [
        "**Решение:**"
      ]
    },
    {
      "cell_type": "code",
      "execution_count": null,
      "metadata": {
        "colab": {
          "base_uri": "https://localhost:8080/"
        },
        "id": "6amsYUCoPMIn",
        "outputId": "ec46a0bd-a13b-4359-857a-fa78e32432fc"
      },
      "outputs": [
        {
          "output_type": "stream",
          "name": "stdout",
          "text": [
            "Анна: 50000 рублей\n",
            "Петр: 60000 рублей\n",
            "Ирина: 55000 рублей\n",
            "Алексей: 65000 рублей\n",
            "Елена: 70000 рублей\n"
          ]
        }
      ],
      "source": [
        "# Создание словаря из 5 сотрудников с их заработной платой\n",
        "employees = {\n",
        "    \"Анна\": 50000,\n",
        "    \"Петр\": 60000,\n",
        "    \"Ирина\": 55000,\n",
        "    \"Алексей\": 65000,\n",
        "    \"Елена\": 70000\n",
        "}\n",
        "\n",
        "# Вывод словаря сотрудников и их заработной платы\n",
        "for name, salary in employees.items():\n",
        "    print(f\"{name}: {salary} рублей\")"
      ]
    }
  ],
  "metadata": {
    "colab": {
      "provenance": []
    },
    "kernelspec": {
      "display_name": "Python 3 (ipykernel)",
      "language": "python",
      "name": "python3"
    },
    "language_info": {
      "codemirror_mode": {
        "name": "ipython",
        "version": 3
      },
      "file_extension": ".py",
      "mimetype": "text/x-python",
      "name": "python",
      "nbconvert_exporter": "python",
      "pygments_lexer": "ipython3",
      "version": "3.11.7"
    }
  },
  "nbformat": 4,
  "nbformat_minor": 0
}