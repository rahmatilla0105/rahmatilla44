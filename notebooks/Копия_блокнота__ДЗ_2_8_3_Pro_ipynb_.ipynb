{
  "cells": [
    {
      "cell_type": "markdown",
      "metadata": {
        "id": "MH-3kVwvJYeP"
      },
      "source": [
        "# 2.8.3 Объектно-ориентированное программирование как ключевой элемент языка Python"
      ]
    },
    {
      "cell_type": "markdown",
      "metadata": {
        "id": "WS0TXJkOD_Q6"
      },
      "source": [
        "## Задание 1"
      ]
    },
    {
      "cell_type": "markdown",
      "metadata": {
        "id": "vnaW1OUnD_RA"
      },
      "source": [
        "**Условие:** Для класса ```Department``` из задания к занятию 2.8.2 установите все родительские классы. Установите к каким классам относятся атрибуты данных и методы указанного класса.\n"
      ]
    },
    {
      "cell_type": "markdown",
      "metadata": {
        "id": "fgXudiR7D_RC"
      },
      "source": [
        "**Решение:**"
      ]
    },
    {
      "cell_type": "code",
      "execution_count": null,
      "metadata": {
        "colab": {
          "base_uri": "https://localhost:8080/"
        },
        "id": "d3EG8Yu9D_RF",
        "outputId": "6a78b402-dc84-4111-8d00-ca49c5af5272"
      },
      "outputs": [
        {
          "output_type": "stream",
          "name": "stdout",
          "text": [
            "True\n",
            "Атрибуты данных класса Department:\n",
            "{'__module__': '__main__', '__init__': <function Department.__init__ at 0x7c261ff9c940>, 'xristmas_tree': <function Department.xristmas_tree at 0x7c261ff9c820>, '__dict__': <attribute '__dict__' of 'Department' objects>, '__weakref__': <attribute '__weakref__' of 'Department' objects>, '__doc__': None}\n",
            "\n",
            "Методы класса Department:\n",
            "['__class__', '__delattr__', '__dir__', '__eq__', '__format__', '__ge__', '__getattribute__', '__gt__', '__hash__', '__init__', '__init_subclass__', '__le__', '__lt__', '__ne__', '__new__', '__reduce__', '__reduce_ex__', '__repr__', '__setattr__', '__sizeof__', '__str__', '__subclasshook__', 'xristmas_tree']\n"
          ]
        }
      ],
      "source": [
        "class Department:\n",
        "    def __init__(self, name, chief, person_list):\n",
        "        self.name = name\n",
        "        self.chief = chief\n",
        "        self.person_list = person_list\n",
        "\n",
        "    def xristmas_tree(self):\n",
        "        # some implementation here\n",
        "        pass\n",
        "\n",
        "# Проверка иерархии классов\n",
        "print(issubclass(Department, object))  # Проверка, является ли Department дочерним классом object\n",
        "\n",
        "# Проверка атрибутов и методов класса Department\n",
        "print(\"Атрибуты данных класса Department:\")\n",
        "print(Department.__dict__)\n",
        "\n",
        "print(\"\\nМетоды класса Department:\")\n",
        "print([method for method in dir(Department) if callable(getattr(Department, method))])"
      ]
    }
  ],
  "metadata": {
    "colab": {
      "provenance": []
    },
    "kernelspec": {
      "display_name": "Python 3 (ipykernel)",
      "language": "python",
      "name": "python3"
    },
    "language_info": {
      "codemirror_mode": {
        "name": "ipython",
        "version": 3
      },
      "file_extension": ".py",
      "mimetype": "text/x-python",
      "name": "python",
      "nbconvert_exporter": "python",
      "pygments_lexer": "ipython3",
      "version": "3.11.7"
    }
  },
  "nbformat": 4,
  "nbformat_minor": 0
}