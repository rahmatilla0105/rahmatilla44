{
  "cells": [
    {
      "cell_type": "markdown",
      "metadata": {
        "id": "MH-3kVwvJYeP"
      },
      "source": [
        "# 2.9.1 Математические вычисления и числа, типы коллекций"
      ]
    },
    {
      "cell_type": "markdown",
      "metadata": {
        "id": "gMwyKhlQJ1mf"
      },
      "source": [
        "## Задание 1"
      ]
    },
    {
      "cell_type": "markdown",
      "metadata": {
        "id": "Owu684lKKrjJ"
      },
      "source": [
        "**Условие:**\n",
        "Используя методы модуля ```cmath```, найти значения $\\exp^{{j*2\\pi k}/{n}}$ для всех целых $k$ от $1$ до $20$ и $n=4$ ($j$ - мнимая единица). Найдите количество различных элементов при условии округления действительной и мнимой частей до целого.\n",
        "\n",
        "**Формат ответа:**\n",
        "Число (например, ```2```)"
      ]
    },
    {
      "cell_type": "markdown",
      "metadata": {
        "id": "OCTvo3fHLaaJ"
      },
      "source": [
        "**Решение:**"
      ]
    },
    {
      "cell_type": "code",
      "execution_count": null,
      "metadata": {
        "id": "f9_8IGndLeRO"
      },
      "outputs": [],
      "source": [
        "import cmath\n",
        "\n",
        "n = 4\n",
        "values = set()  # Множество для хранения уникальных значений\n",
        "\n",
        "for k in range(1, 21):\n",
        "    exponent = cmath.exp(1j * 2 * cmath.pi * k / n)\n",
        "    rounded_real = round(exponent.real)\n",
        "    rounded_imag = round(exponent.imag)\n",
        "    complex_value = complex(rounded_real, rounded_imag)\n",
        "    values.add(complex_value)\n",
        "\n",
        "count = len(values)\n",
        "print(count)"
      ]
    },
    {
      "cell_type": "markdown",
      "metadata": {
        "id": "g5S0h2-wKfGE"
      },
      "source": [
        "## Задание 2"
      ]
    },
    {
      "cell_type": "markdown",
      "metadata": {
        "id": "orX7BUzcPKKf"
      },
      "source": [
        "**Условие:**\n",
        "Используя ```Counter``` из модуля ```collections```, найдите частоты встречаемости букв в тексте решения. Укажите наиболее частую букву.\n",
        "\n",
        "**Формат ответа:** строка (например, ```('а')```)\n",
        "\n",
        "**Оценка в баллах:** 3"
      ]
    },
    {
      "cell_type": "markdown",
      "metadata": {
        "id": "ESSLfwqEPKKn"
      },
      "source": [
        "**Решение:**"
      ]
    },
    {
      "cell_type": "code",
      "execution_count": null,
      "metadata": {
        "colab": {
          "base_uri": "https://localhost:8080/",
          "height": 35
        },
        "id": "y8HOlaNLPKKq",
        "outputId": "c7f1e6c4-bedb-48d9-aac7-5966ab886f81"
      },
      "outputs": [
        {
          "output_type": "execute_result",
          "data": {
            "text/plain": [
              "'о'"
            ],
            "application/vnd.google.colaboratory.intrinsic+json": {
              "type": "string"
            }
          },
          "metadata": {},
          "execution_count": 1
        }
      ],
      "source": [
        "from collections import Counter\n",
        "\n",
        "text = '''Мы жили и живем в режиме постоянных изменений и экспериментов: АВ-тесты, проверка различных гипотез. Запускаем новые сервисы, потом, если что-то не работает, выпиливаем.\n",
        "Когда-то у нас был монолит на РНР, который приносил много боли и страдания. Чтобы обеспечить приемлемый time-to-market, мы пошли типичным путем — стали пилить этот монолит на микросервисы. В итоге получилось, что большой монолит превратился во много маленьких монолитов. Это нормально, так происходит у всех, кто сталкивался с подобной задачей.\n",
        "Затем мы начали пробовать другие технологии, в частности у нас появился Golang, он в дальнейшем стал основным языком разработки. Встали вопросы: как это все разрабатывать, тестировать и развертывать? Ответ был очевиден — нужен dev-сервер. У каждого разработчика должен быть dev-сервер, куда он сможет подсоединяться, чтобы писать там качественный и высокопроизводительный код.'''\n",
        "\n",
        "# Приведем текст к нижнему регистру\n",
        "text_lower = text.lower()\n",
        "\n",
        "# Используем Counter для подсчета частоты встречаемости букв\n",
        "letter_counts = Counter(c for c in text_lower if c.isalpha())\n",
        "\n",
        "# Находим наиболее частую букву\n",
        "most_common_letter = max(letter_counts, key=letter_counts.get)\n",
        "\n",
        "most_common_letter"
      ]
    }
  ],
  "metadata": {
    "colab": {
      "provenance": []
    },
    "kernelspec": {
      "display_name": "Python 3 (ipykernel)",
      "language": "python",
      "name": "python3"
    },
    "language_info": {
      "codemirror_mode": {
        "name": "ipython",
        "version": 3
      },
      "file_extension": ".py",
      "mimetype": "text/x-python",
      "name": "python",
      "nbconvert_exporter": "python",
      "pygments_lexer": "ipython3",
      "version": "3.11.7"
    }
  },
  "nbformat": 4,
  "nbformat_minor": 0
}