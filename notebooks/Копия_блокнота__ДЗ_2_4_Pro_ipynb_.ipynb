{
  "cells": [
    {
      "cell_type": "markdown",
      "metadata": {
        "id": "MH-3kVwvJYeP"
      },
      "source": [
        "# 2.4 Управляющие структуры. Условные ветвления и циклы"
      ]
    },
    {
      "cell_type": "markdown",
      "metadata": {
        "id": "gMwyKhlQJ1mf"
      },
      "source": [
        "## Задание 1"
      ]
    },
    {
      "cell_type": "markdown",
      "metadata": {
        "id": "Owu684lKKrjJ"
      },
      "source": [
        "Вычислить приблизительное значение экспоненциальной функции с использованием ряда Тейлора:\n",
        "$$\n",
        "e^x=\\sum_{n=0}^{100} {\\frac {x^n} {n!}}.\n",
        "$$\n",
        "Найдите значение $e^{20}$, округленное до 5 знаков после запятой.\n",
        "\n",
        "**Формат ответа:**\n",
        "Число (например, ```3213156.11234```)"
      ]
    },
    {
      "cell_type": "markdown",
      "metadata": {
        "id": "OCTvo3fHLaaJ"
      },
      "source": [
        "**Решение:**"
      ]
    },
    {
      "cell_type": "code",
      "execution_count": null,
      "metadata": {
        "id": "f9_8IGndLeRO"
      },
      "outputs": [],
      "source": [
        "def factorial(n):\n",
        "    if n == 0:\n",
        "        return 1\n",
        "    else:\n",
        "        return n * factorial(n - 1)\n",
        "\n",
        "def exponential_taylor(x, terms):\n",
        "    result = 0\n",
        "    for n in range(terms):\n",
        "        result += (x ** n) / factorial(n)\n",
        "    return result\n",
        "\n",
        "e_to_20 = exponential_taylor(20, 100)\n",
        "rounded_result = round(e_to_20, 5)\n",
        "print(\"e^20 ≈\", rounded_result)"
      ]
    },
    {
      "cell_type": "markdown",
      "metadata": {
        "id": "g5S0h2-wKfGE"
      },
      "source": [
        "## Задание 2"
      ]
    },
    {
      "cell_type": "markdown",
      "metadata": {
        "id": "orX7BUzcPKKf"
      },
      "source": [
        "**Условие:**\n",
        "Найдите среднее арифметическое всех **простых** делителей числа $n$, заданного пользователем. Дайте ответ для $n = 125632$. Требуется сперва получить лист делителей, а потом уже найти среднее арифметическое.\n",
        "\n",
        "**Формат ответа:** Число (например, ```2112.87```)"
      ]
    },
    {
      "cell_type": "markdown",
      "metadata": {
        "id": "ESSLfwqEPKKn"
      },
      "source": [
        "**Решение:**"
      ]
    },
    {
      "cell_type": "code",
      "execution_count": null,
      "metadata": {
        "id": "y8HOlaNLPKKq"
      },
      "outputs": [],
      "source": [
        "def get_prime_divisors(n):\n",
        "    divisors = []\n",
        "    for i in range(2, n+1):\n",
        "        if n % i == 0:\n",
        "            is_prime = True\n",
        "            for j in range(2, int(i**0.5) + 1):\n",
        "                if i % j == 0:\n",
        "                    is_prime = False\n",
        "                    break\n",
        "            if is_prime:\n",
        "                divisors.append(i)\n",
        "    return divisors\n",
        "\n",
        "def average(lst):\n",
        "    return sum(lst) / len(lst) if len(lst) > 0 else 0\n",
        "\n",
        "n = 125632\n",
        "prime_divisors = get_prime_divisors(n)\n",
        "avg = average(prime_divisors)\n",
        "print(\"Простые делители числа\", n, \":\", prime_divisors)\n",
        "print(\"Среднее арифметическое простых делителей:\", avg)"
      ]
    },
    {
      "cell_type": "markdown",
      "metadata": {
        "id": "tq0Fcrg1KfXQ"
      },
      "source": [
        "## Задание 3"
      ]
    },
    {
      "cell_type": "markdown",
      "metadata": {
        "id": "3xp-jyyHPMIb"
      },
      "source": [
        "**Условие:** Создайте игру, в которой пользователь должен угадать заранее случайным образом выбранное целое число от 1 до 100. В случае неправильного ответа программа должна делать подсказки вида: это число меньше(больше), чем загаданное.  Используйте модуль ```random``` и цикл ```while```. Не забудьте поставить условие выхода, например, при вводе символа *. Сыграйте с машиной в эту игру 3 раза(в каждой игре до выигрыша) и укажите среднее значение попыток до успешного угадывания.\n",
        "\n",
        "**Формат ответа:** Число (например, ```8```)"
      ]
    },
    {
      "cell_type": "markdown",
      "metadata": {
        "id": "H5ZlBsI2PMIi"
      },
      "source": [
        "**Решение:**"
      ]
    },
    {
      "cell_type": "code",
      "execution_count": null,
      "metadata": {
        "id": "6amsYUCoPMIn"
      },
      "outputs": [],
      "source": [
        "import random\n",
        "\n",
        "def guess_number():\n",
        "    number_to_guess = random.randint(1, 100)\n",
        "    attempts = 0\n",
        "    while True:\n",
        "        user_input = input(\"Угадайте число от 1 до 100 (или введите * для выхода): \")\n",
        "        if user_input == '*':\n",
        "            print(\"Выход из игры.\")\n",
        "            break\n",
        "        try:\n",
        "            guess = int(user_input)\n",
        "            attempts += 1\n",
        "            if guess < number_to_guess:\n",
        "                print(\"Загаданное число больше.\")\n",
        "            elif guess > number_to_guess:\n",
        "                print(\"Загаданное число меньше.\")\n",
        "            else:\n",
        "                print(\"Поздравляю, вы угадали число!\")\n",
        "                break\n",
        "        except ValueError:\n",
        "            print(\"Пожалуйста, введите целое число.\")\n",
        "\n",
        "    return attempts\n",
        "\n",
        "total_attempts = 0\n",
        "for _ in range(3):\n",
        "    print(\"Игра началась!\")\n",
        "    attempts = guess_number()\n",
        "    total_attempts += attempts\n",
        "\n",
        "average_attempts = total_attempts / 3\n",
        "print(\"Среднее количество попыток до успешного угадывания:\", average_attempts)"
      ]
    }
  ],
  "metadata": {
    "colab": {
      "provenance": []
    },
    "kernelspec": {
      "display_name": "Python 3 (ipykernel)",
      "language": "python",
      "name": "python3"
    },
    "language_info": {
      "codemirror_mode": {
        "name": "ipython",
        "version": 3
      },
      "file_extension": ".py",
      "mimetype": "text/x-python",
      "name": "python",
      "nbconvert_exporter": "python",
      "pygments_lexer": "ipython3",
      "version": "3.11.7"
    }
  },
  "nbformat": 4,
  "nbformat_minor": 0
}