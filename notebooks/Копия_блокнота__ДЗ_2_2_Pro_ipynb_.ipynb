{
  "cells": [
    {
      "cell_type": "markdown",
      "metadata": {
        "id": "MH-3kVwvJYeP"
      },
      "source": [
        "\n",
        "# 2.2 Типы данных. Идентификаторы и ключевые слова. Целочисленные типы и числа с плавающей запятой. Строки"
      ]
    },
    {
      "cell_type": "markdown",
      "metadata": {
        "id": "gMwyKhlQJ1mf"
      },
      "source": [
        "## Задание 1"
      ]
    },
    {
      "cell_type": "markdown",
      "metadata": {
        "id": "Owu684lKKrjJ"
      },
      "source": [
        "**Условие:**\n",
        "Напишите функцию, получающую на вход целое положительное десятичное число и выводящую на экран его двоичное, восьмеричное и шестнадцатеричное представления. Что выдаст функция при подаче на вход числа ```124124234```.\n",
        "\n",
        "**Формат ответа:**\n",
        "Кортеж (например, ```(0b1000101,0o45312234,0xAFBBB012)```)\n"
      ]
    },
    {
      "cell_type": "markdown",
      "metadata": {
        "id": "OCTvo3fHLaaJ"
      },
      "source": [
        "**Решение:**"
      ]
    },
    {
      "cell_type": "code",
      "execution_count": null,
      "metadata": {
        "colab": {
          "base_uri": "https://localhost:8080/"
        },
        "id": "f9_8IGndLeRO",
        "outputId": "4254969e-bb8b-48b0-9cad-61f0eed752c8"
      },
      "outputs": [
        {
          "output_type": "stream",
          "name": "stdout",
          "text": [
            "Двоичное представление числа 124124234: 0b111011001011111110001001010\n",
            "Восьмеричное представление числа 124124234: 0o731376112\n",
            "Шестнадцатеричное представление числа 124124234: 0x765fc4a\n"
          ]
        }
      ],
      "source": [
        " def print_number_representations(number):\n",
        "    if number <= 0:\n",
        "        print(\"Число должно быть положительным и ненулевым.\")\n",
        "        return\n",
        "\n",
        "    binary_representation = bin(number)\n",
        "    octal_representation = oct(number)\n",
        "    hexadecimal_representation = hex(number)\n",
        "\n",
        "    print(f\"Двоичное представление числа {number}: {binary_representation}\")\n",
        "    print(f\"Восьмеричное представление числа {number}: {octal_representation}\")\n",
        "    print(f\"Шестнадцатеричное представление числа {number}: {hexadecimal_representation}\")\n",
        "\n",
        "# Пример использования функции для числа 124124234\n",
        "print_number_representations(124124234)"
      ]
    },
    {
      "cell_type": "markdown",
      "metadata": {
        "id": "g5S0h2-wKfGE"
      },
      "source": [
        "## Задание 2"
      ]
    },
    {
      "cell_type": "markdown",
      "metadata": {
        "id": "orX7BUzcPKKf"
      },
      "source": [
        "**Условие:**\n",
        "Напишите функцию получения двоичного представления числа с использованием битового сдвига и нажождения остатка от деления на 2. Примените к числу из предыдущей задачи.\n",
        "\n",
        "**Формат ответа:**\n",
        "Число в двоичном виде (например, ```0b10001110101```)\n"
      ]
    },
    {
      "cell_type": "markdown",
      "metadata": {
        "id": "ESSLfwqEPKKn"
      },
      "source": [
        "**Решение:**"
      ]
    },
    {
      "cell_type": "code",
      "execution_count": null,
      "metadata": {
        "colab": {
          "base_uri": "https://localhost:8080/"
        },
        "id": "y8HOlaNLPKKq",
        "outputId": "2556b2ba-abf4-44b5-9b33-8af3033f508a"
      },
      "outputs": [
        {
          "output_type": "stream",
          "name": "stdout",
          "text": [
            "Двоичное представление числа 124124234: 111011001011111110001001010\n"
          ]
        }
      ],
      "source": [
        "def binary_representation(number):\n",
        "    if number == 0:\n",
        "        return '0'\n",
        "\n",
        "    result = ''\n",
        "    while number > 0:\n",
        "        result = str(number % 2) + result\n",
        "        number //= 2\n",
        "\n",
        "    return result\n",
        "\n",
        "# Пример использования функции для числа 124124234\n",
        "result_binary = binary_representation(124124234)\n",
        "print(f\"Двоичное представление числа 124124234: {result_binary}\")"
      ]
    },
    {
      "cell_type": "markdown",
      "metadata": {
        "id": "tq0Fcrg1KfXQ"
      },
      "source": [
        "## Задание 3"
      ]
    },
    {
      "cell_type": "markdown",
      "metadata": {
        "id": "3xp-jyyHPMIb"
      },
      "source": [
        "**Условие:**\n",
        "Используя библиотеку ```math``` найдите значение $e^\\pi > \\pi^e$.\n",
        "\n",
        "**Формат ответа:**\n",
        "Булево число (например, ```False```)\n"
      ]
    },
    {
      "cell_type": "markdown",
      "metadata": {
        "id": "H5ZlBsI2PMIi"
      },
      "source": [
        "**Решение:**"
      ]
    },
    {
      "cell_type": "code",
      "execution_count": null,
      "metadata": {
        "colab": {
          "base_uri": "https://localhost:8080/"
        },
        "id": "6amsYUCoPMIn",
        "outputId": "f162db30-aef2-4c60-dbfc-332b378f0179"
      },
      "outputs": [
        {
          "output_type": "stream",
          "name": "stdout",
          "text": [
            "e^π больше чем π^e\n"
          ]
        }
      ],
      "source": [
        "import math\n",
        "\n",
        "# Расчет e^π и π^e\n",
        "exp_pi = math.exp(math.pi)\n",
        "pi_exp = math.pi ** math.e\n",
        "\n",
        "# Проверка условия e^π > π^e и вывод результата\n",
        "if exp_pi > pi_exp:\n",
        "    print(\"e^π больше чем π^e\")\n",
        "else:\n",
        "    print(\"e^π не больше чем π^e\")"
      ]
    }
  ],
  "metadata": {
    "colab": {
      "provenance": []
    },
    "kernelspec": {
      "display_name": "Python 3 (ipykernel)",
      "language": "python",
      "name": "python3"
    },
    "language_info": {
      "codemirror_mode": {
        "name": "ipython",
        "version": 3
      },
      "file_extension": ".py",
      "mimetype": "text/x-python",
      "name": "python",
      "nbconvert_exporter": "python",
      "pygments_lexer": "ipython3",
      "version": "3.11.7"
    },
    "toc": {
      "base_numbering": 1,
      "nav_menu": {},
      "number_sections": true,
      "sideBar": true,
      "skip_h1_title": false,
      "title_cell": "Table of Contents",
      "title_sidebar": "Contents",
      "toc_cell": false,
      "toc_position": {},
      "toc_section_display": true,
      "toc_window_display": false
    }
  },
  "nbformat": 4,
  "nbformat_minor": 0
}